{
 "cells": [
  {
   "cell_type": "markdown",
   "metadata": {},
   "source": [
    "#  <b>🤖 Wikipedia Web Crawler</b>"
   ]
  },
  {
   "cell_type": "markdown",
   "metadata": {},
   "source": [
    "###  <b> ✺ first, Create a folder 'data' in the same directory of the ipynb file, then run</b>"
   ]
  },
  {
   "cell_type": "code",
   "execution_count": 1,
   "metadata": {},
   "outputs": [
    {
     "name": "stdout",
     "output_type": "stream",
     "text": [
      "Creation of the directory C:/Users/User/Desktop/web_intelligence_project failed\n"
     ]
    }
   ],
   "source": [
    "import os\n",
    "import time\n",
    "import requests\n",
    "from bs4 import BeautifulSoup\n",
    "import re\n",
    "from collections import deque\n",
    "from urllib.parse import urlparse\n",
    "import numpy as np\n",
    "import time\n",
    "import matplotlib.pyplot as plt\n",
    "\n",
    "# define the name of the directory to be created\n",
    "path = \"C:/Users/User/Desktop/web_intelligence_project\"\n",
    "\n",
    "try:\n",
    "    os.mkdir(path)\n",
    "except OSError:\n",
    "    print (\"Creation of the directory %s failed\" % path)\n",
    "else:\n",
    "    print (\"Successfully created the directory %s \" % path)"
   ]
  },
  {
   "cell_type": "markdown",
   "metadata": {},
   "source": [
    "## ➳ Search Settings"
   ]
  },
  {
   "cell_type": "code",
   "execution_count": 2,
   "metadata": {},
   "outputs": [],
   "source": [
    "# BFS Queue\n",
    "queue = deque([])\n",
    "\n",
    "# Temporary results for files writing\n",
    "result_urls = []\n",
    "result_urls_ref = []\n",
    "# Search Settings\n",
    "max_depth = 2\n",
    "max_search = 20"
   ]
  },
  {
   "cell_type": "markdown",
   "metadata": {},
   "source": [
    "# <u>Breadth-First Serch Crawling<u>"
   ]
  },
  {
   "cell_type": "markdown",
   "metadata": {},
   "source": [
    "## ➳ [Wikipedia: robots.txt](https://en.wikipedia.org/robots.txt)"
   ]
  },
  {
   "cell_type": "markdown",
   "metadata": {},
   "source": [
    "## ➳ write URL into txt file"
   ]
  },
  {
   "cell_type": "code",
   "execution_count": 3,
   "metadata": {},
   "outputs": [],
   "source": [
    "crawl_time = []\n",
    "def BFS_crawler(seed_url):\n",
    "    start = time.time()\n",
    "    # Initialize the depth of the search\n",
    "    depth = 1\n",
    "    # Initialize Queue Setting for Breadth-First Search \n",
    "    queue.append(seed_url)\n",
    "    \n",
    "    while (len(queue)) != 0 and len(result_urls) < max_search and depth < max_depth:\n",
    "        # for elements in the Queue\n",
    "        size = len(queue)\n",
    "        for i in range (0,size):\n",
    "            \n",
    "            # BFS: 1) remove/pop the 1st from the Queue \n",
    "            current_url = queue.popleft()            \n",
    "            # Try to avoid limited server capacity ( Frequency of scraping )\n",
    "            time.sleep(3)\n",
    "            # Getting Source Code by requests package\n",
    "            source_code = requests.get(current_url).text\n",
    "            # Parse HTML by BeautifulSoup package\n",
    "            soup = BeautifulSoup(source_code, \"html.parser\")\n",
    "            # Get Wiki content from div element of the HTML page \n",
    "            content = soup.find('div', {'id': 'mw-content-text'})\n",
    "            #title = soup.find('h1', {'id': 'firstHeading'} and {'class': 'firstHeading'})\n",
    "            \n",
    "            ######################\n",
    "            # GET RELATED CONTENT!\n",
    "            ######################\n",
    "            \n",
    "            for item in content.findAll('a',{'class':'external text'}):\n",
    "                url = item.get('href')             \n",
    "                if url not in result_urls_ref:\n",
    "                    result_urls_ref.append(url)\n",
    "                    print(url)\n",
    "                keywords = ['Ebay']\n",
    "                for keyword in keywords:\n",
    "                        if keyword in url:\n",
    "                            result_urls_ref.append(url)\n",
    "                            print(url)\n",
    "                            \n",
    "            # Respecting robots.txt that indicates which parts of the website you should not scrap\n",
    "            for item in content.findAll('a', {'title': True} and {'class': False}):\n",
    "                if ('#' not in item.get('href')) and item.get('href').startswith('/wiki/') \\\n",
    "                and not item.get('href').startswith('/wiki/Category:') \\\n",
    "                and not item.get('href').startswith('/wiki/File:') \\\n",
    "                and not item.get('href').startswith('/wiki/Template:') \\\n",
    "                and not item.get('href').startswith('/wiki/Book:') \\\n",
    "                and not item.get('href').startswith('/wiki/Portal:') \\\n",
    "                and not item.get('href').startswith('/wiki/Help:') \\\n",
    "                and not item.get('href').startswith('/wiki/Template_talk:') \\\n",
    "                and not item.get(\"href\").startswith('/wiki/Special:') \\\n",
    "                and not item.get(\"href\").startswith('/wiki/Wikipedia:WikiProject_Philosophy/') \\\n",
    "                and not item.get('href').startswith('/wiki/Talk:'):\n",
    "                    \n",
    "                    \"\"\"\n",
    "                    After respecting the will of the website owner and \n",
    "                    adapt to the information contained therein\n",
    "                    \"\"\"\n",
    "                   \n",
    "                    # get full url of wikipedia \n",
    "                    url = \"https://en.wikipedia.org\" + item.get('href')\n",
    "\n",
    "                    \n",
    "                    # Relation to specific hashtag - fill in keyword if you want or leave null\n",
    "                    #keywords = ['e-commerce','mobile commerce','e-shop','online shopping','internet marketing','industry','retail','ebay']\n",
    "                    \n",
    "                    #for keyword in keywords:\n",
    "                        # BFS: 2) Create new paths to all children\n",
    "                    #    if re.search(keyword, url, re.IGNORECASE) :\n",
    "\n",
    "                            # check if there's still elements in the Queue and the URL is unique\n",
    "                            # ( BFS: 3) Reject the new paths with loops )\n",
    "                    if len(result_urls) < max_search and url not in result_urls:\n",
    "\n",
    "                        # add the URL to to results (in order to write after to a file)  \n",
    "                        result_urls.append(url)\n",
    "\n",
    "                        # BFS: 4) add the url to the end of the Queue\n",
    "                        queue.append(url)\n",
    "                        print(\"For Depth \",depth,'  --->\\n#' , len(result_urls) , url)\n",
    "\n",
    "                    # if goal is acheived ---> stop \n",
    "                    if len(result_urls) == max_search:\n",
    "                        return 0\n",
    "                    \n",
    "                    keyword=\"\"        \n",
    "                    if len(result_urls) != max_search: \n",
    "                        # BFS: 2) Create new paths to all children\n",
    "                        if re.search(keyword, url, re.IGNORECASE) :\n",
    "\n",
    "                            # check if there's still elements in the Queue and the URL is unique\n",
    "                            # ( BFS: 3) Reject the new paths with loops )\n",
    "                            if len(result_urls) < max_search and url not in result_urls:\n",
    "\n",
    "                                # add the URL to to results (in order to write after to a file)  \n",
    "                                result_urls.append(url)\n",
    "\n",
    "                                # BFS: 4) add the url to the end of the Queue\n",
    "                                queue.append(url)\n",
    "                                print(\"For Depth \",depth,'  --->\\n#' , len(result_urls) , url)\n",
    "\n",
    "                            # if goal is acheived ---> stop \n",
    "                            if len(result_urls) == max_search:\n",
    "                                return 0\n",
    "                        \n",
    "        # Increase the depth search by 1\n",
    "\n",
    "        depth += 1\n",
    "    finish = time.time()\n",
    "    crawl_time.append(finish-start)   "
   ]
  },
  {
   "cell_type": "code",
   "execution_count": 4,
   "metadata": {},
   "outputs": [],
   "source": [
    "def output_urls(urls,name):\n",
    "    file_loc = 'C:/Users/User/Desktop/web_intelligence_project/data/'+str(name)+'.txt'\n",
    "    fx = open(file_loc, \"w+\")\n",
    "    for url in urls:\n",
    "        fx.write(url + '\\n')\n",
    "    fx.close()\n",
    "    #print(\"Done - Check the new files in the folder ^data^\")"
   ]
  },
  {
   "cell_type": "markdown",
   "metadata": {},
   "source": [
    "## ➳ Crawl First URL"
   ]
  },
  {
   "cell_type": "code",
   "execution_count": 5,
   "metadata": {},
   "outputs": [],
   "source": [
    "def output_urls_ref(urls,name):\n",
    "    file_loc = 'C:/Users/User/Desktop/web_intelligence_project/data/ref/'+str(name)+'.txt'\n",
    "    fx = open(file_loc, \"w+\")\n",
    "    for url in urls:\n",
    "        fx.write(url + '\\n')\n",
    "    fx.close()"
   ]
  },
  {
   "cell_type": "code",
   "execution_count": 6,
   "metadata": {},
   "outputs": [],
   "source": [
    "def crawl_first_url(seed_url):    \n",
    "    #seed_url = input(\"Please enter wikipedia URL to crawl\")\n",
    "    parse_url = urlparse(seed_url)\n",
    "    name_tmp = parse_url.path[6:]\n",
    "    #print(name_tmp)\n",
    "    BFS_crawler(seed_url)\n",
    "    output_urls(result_urls,name_tmp)\n",
    "    output_urls_ref(result_urls_ref,name_tmp)\n",
    "    return name_tmp"
   ]
  },
  {
   "cell_type": "markdown",
   "metadata": {},
   "source": [
    "## ➳ Crawl Related URL's"
   ]
  },
  {
   "cell_type": "code",
   "execution_count": 7,
   "metadata": {},
   "outputs": [],
   "source": [
    "def crawl_related(filepath):\n",
    "    #filepath = 'data/'+str(name)+'.txt'\n",
    "    with open(filepath) as fp:\n",
    "        lines = [line.rstrip() for line in fp]\n",
    "        for line in lines:\n",
    "            #print(line)\n",
    "            parse_url = urlparse(line)\n",
    "            name = parse_url.path[6:]\n",
    "            BFS_crawler(line)\n",
    "            output_urls(result_urls,name)\n",
    "            output_urls_ref(result_urls_ref,name)"
   ]
  },
  {
   "cell_type": "markdown",
   "metadata": {},
   "source": [
    "## ➳ Run Crawler"
   ]
  },
  {
   "cell_type": "markdown",
   "metadata": {},
   "source": [
    "#### https://en.wikipedia.org/wiki/Barcelona"
   ]
  },
  {
   "cell_type": "code",
   "execution_count": 8,
   "metadata": {
    "scrolled": true
   },
   "outputs": [
    {
     "name": "stdout",
     "output_type": "stream",
     "text": [
      "Please enter wikipedia URL to crawlhttps://en.wikipedia.org/wiki/E-commerce\n",
      "\n",
      "Crawling HTML\n",
      "===============================\n",
      "Please Wait...\n",
      "https://en.wikipedia.org/w/index.php?title=Template:E-commerce&action=edit\n",
      "https://www.statista.com/statistics/220177/b2c-e-commerce-sales-cagr-forecast-for-selected-countries/\n",
      "https://venturebeat.com/2018/03/06/how-to-prepare-your-products-and-brand-for-conversational-commerce/\n",
      "https://www.theguardian.com/science/2013/apr/19/online-high-net-drugs-deal\n",
      "https://www.nist.gov/sites/default/files/documents/2017/05/09/report01-2.pdf\n",
      "https://books.google.com/books?id=3u9H-xL4sZAC&pg=PA3\n",
      "https://books.google.com/books?id=a9_NJIBC87gC&dq\n",
      "http://www.studymode.com/essays/E-Commerce-1554293.html\n",
      "https://www.bbc.co.uk/news/magazine-24091393\n",
      "http://www.aldricharchive.com/snowball.html\n",
      "https://web.archive.org/web/20130515112120/http://www.gsbrown.org/compuserve/electronic-mall-1984-04/\n",
      "http://www.gsbrown.org/compuserve/electronic-mall-1984-04/\n",
      "http://www.w3.org/People/Berners-Lee/WorldWideWeb.html\n",
      "https://web.archive.org/web/20150908112318/http://next.68k.org/ftp.peak.org/next/documents/newsletters/NuggetNewsText/vol.04.11.txt\n",
      "http://next.68k.org/ftp.peak.org/next/documents/newsletters/NuggetNewsText/vol.04.11.txt\n",
      "https://appstorey.com/2016/04/11/jesse-tayler-talks-appstore-and-nextstep-with-appstorey/\n",
      "https://groups.google.com/group/comp.sys.next.announce/msg/56aacf1318e577ce\n",
      "https://www.nytimes.com/1994/08/12/business/attention-shoppers-internet-is-open.html\n",
      "https://www.wired.com/wired/archive/13.08/tech.html?pg=2\n",
      "https://books.google.com/books?id=pnict8L-_iYC&pg=PA71\n",
      "https://news.google.com/newspapers?id=6EVWAAAAIBAJ&sjid=FOsDAAAAIBAJ&pg=5537%2C1474649\n",
      "https://doi.org/10.1016%2Fj.sbspro.2011.09.010\n",
      "https://web.archive.org/web/20141006214543/http://investor.ebay.com/releasedetail.cfm?releaseid=84142\n",
      "http://investor.ebay.com/releasedetail.cfm?ReleaseID=84142\n",
      "https://web.archive.org/web/20120223015245/http://www.zwgl.com.cn/article_info.asp?nid=4243\n",
      "http://www.zwgl.com.cn/article_info.asp?nid=4243\n",
      "http://domainnamewire.com/2007/07/26/rh-donnelley-acquires-businesscom-for-345m/\n",
      "http://www.forrester.com/US+eCommerce+Forecast+2013+To+2018/fulltext/-/E-RES115513/\n",
      "http://www.marketwatch.com/story/amazon-will-account-for-more-than-half-of-2015-e-commerce-growth-says-macquarie-2015-12-22\n",
      "https://www.emarketer.com/Report/Worldwide-Retail-Ecommerce-Sales-eMarketers-Updated-Forecast-New-Mcommerce-Estimates-20162021/2002182\n",
      "https://unctad.org/en/pages/PressRelease.aspx?OriginalVersionID=505\n",
      "https://web.archive.org/web/20071226052310/http://www.ftc.gov/bcp/conline/pubs/buspubs/ruleroad.shtm\n",
      "http://www.ftc.gov/bcp/conline/pubs/buspubs/ruleroad.shtm\n",
      "http://www.ftc.gov/privacy/privacyinitiatives/promises.html\n",
      "https://www.govtrack.us/congress/bill.xpd?bill=h110-6353&tab=summary\n",
      "http://www.uncitral.org/uncitral/en/uncitral_texts/electronic_commerce/1996Model.html\n",
      "http://www.accc.gov.au/\n",
      "https://web.archive.org/web/20120227090216/http://www.accc.gov.au/content/index.phtml/itemId/54056\n",
      "http://www.accc.gov.au/content/index.phtml/itemId/54056\n",
      "https://web.archive.org/web/20120227084333/http://www.accc.gov.au/content/index.phtml/itemId/815341\n",
      "http://www.accc.gov.au/content/index.phtml/itemId/815341\n",
      "http://www.fsa.gov.uk/portal/site/fsa\n",
      "https://www.ft.com/intl/cms/s/0/0203b99e-797f-11df-b063-00144feabdc0.html#axzz2RAtoYsio\n",
      "http://www.legislation.gov.uk/uksi/2009/209/introduction/made\n",
      "http://www.china.org.cn/business/laws_regulations/2010-01/20/content_19273945.htm\n",
      "http://www.china.org.cn/business/2010-01/20/content_19274704.htm\n",
      "https://www.efilecabinet.com/the-prc-electronic-signature-law/\n",
      "https://www.thebalance.com/ecommerce-businesses-understanding-types-1141595\n",
      "https://web.archive.org/web/20130502054945/http://www.governor.co.uk/news-plus-views/2013/march/t-commerce-what-the-tablet-can-do-for-brands-and-their-consumers/\n",
      "http://www.governor.co.uk/news-plus-views/2013/march/t-commerce-what-the-tablet-can-do-for-brands-and-their-consumers/\n",
      "https://www.theguardian.com/technology/2010/oct/28/net-worth-100bn-uk/\n",
      "http://ecommercenews.eu/infographic-ecommerce-contribution-in-europe/\n",
      "https://www.techinasia.com/china-internet-social-media-ecommerce-stats-2015\n",
      "https://www.forbes.com/2010/01/18/china-internet-commerce-markets-equities-alibaba.html/\n",
      "http://www.internetretailer.com/2013/09/16/chinas-cross-border-e-commerce-tops-375-billion-2012/\n",
      "http://www.techinasia.com/alibaba-numbers-ipo-breaks-records-2014/\n",
      "https://www.bbc.co.uk/news/world-asia-china-29119121\n",
      "https://www.techinasia.com/asia-ecommerce-spending-1-trillion-dollars-2016\n",
      "http://www.emarketer.com/Article/More-Buyers-Join-Brazils-Robust-Ecommerce-Market/1009725\n",
      "https://www.statista.com/topics/2157/internet-usage-in-india/\n",
      "https://www.researchgate.net/publication/311518414\n",
      "https://assets.kpmg.com/content/dam/kpmg/in/pdf/2016/08/E-commerce-retail-logistics-India.pdf\n",
      "https://www.embitel.com/blog/ecommerce-blog/ecommerce-in-the-middle-east-what-are-the-demographics\n",
      "http://hbr.org/2008/03/in-e-commerce-more-is-more/ar/1\n",
      "http://www.emarketer.com/Article/Ecommerce-Sales-Topped-1-Trillion-First-Time-2012/1009649\n",
      "http://www.internetretailer.com/2013/04/25/us-e-commerce-sales-could-top-434-billion-2017\n",
      "https://doi.org/10.1080%2F10864415.2004.11044317\n",
      "//citeseerx.ist.psu.edu/viewdoc/summary?doi=10.1.1.4.9128\n",
      "https://doi.org/10.1257%2Fjep.15.1.69\n",
      "https://techcrunch.com/2018/02/20/facebook-3d-posts/\n",
      "https://doi.org/10.17270%2FJ.LOG.2017.4.4\n",
      "https://www.statista.com/statistics/379046/worldwide-retail-e-commerce-sales/\n",
      "http://www.bbc.co.uk/schools/gcsebitesize/ict/implications/1lifestylerev3.shtml\n",
      "https://doi.org/10.1080%2F00207543.2014.973074\n",
      "https://web.archive.org/web/20180106174640/http://yilihong.github.io/paper/Product%20Uncertainty%20in%20Online%20Markets_Dimoka_Hong_Pavlou2012.pdf\n",
      "https://doi.org/10.2307%2F41703461\n",
      "//www.jstor.org/stable/41703461\n",
      "https://yilihong.github.io/paper/Product%20Uncertainty%20in%20Online%20Markets_Dimoka_Hong_Pavlou2012.pdf\n",
      "https://ideas.repec.org/a/aes/amfeco/v10y2008i24p236-253.html\n",
      "https://doi.org/10.1080%2F00420980220128390\n",
      "//www.jstor.org/stable/43084757\n",
      "https://doi.org/10.15221%2F17.210\n",
      "https://www.cnn.com/2019/07/16/business/amazon-cardboard-box-prime-day/index.html\n",
      "https://web.archive.org/web/20190716130808/https://www.cnn.com/2019/07/16/business/amazon-cardboard-box-prime-day/index.html\n",
      "https://www.foxbusiness.com/retail/features-retail-apocalypse-bankruptcy-stores-closing\n",
      "https://multichannelmerchant.com/ecommerce/store-closures-failures-continue-to-mount-as-retailers-seek-to-pivot-faster/\n",
      "https://www.usatoday.com/story/money/2019/08/01/retail-flagship-stores-close-rent-online-shopping-skyrockets/1888004001/\n",
      "http://www.businessweek.com/articles/2013-07-10/click-to-brick-why-online-retailers-want-stores-in-real-life\n",
      "https://www.retailtouchpoints.com/topics/omnichannel-cross-channel-strategies/retail-s-big-opportunity-87-of-u-s-consumers-grasp-the-power-of-conversational-commerce\n",
      "https://doi.org/10.1007%2F978-1-4615-1627-9_6\n",
      "http://law.richmond.edu/jolt/v13i2/article5.pdf\n",
      "https://web.archive.org/web/20081029084143/http://geospace.co.uk/files/compass.pdf\n",
      "https://doi.org/10.1111%2Fj.1749-8198.2008.00093.x\n",
      "http://geospace.co.uk/files/compass.pdf\n",
      "http://www.nbs-system.com/wp-content/uploads/benchmark_short_english.pdf\n",
      "https://www.usatoday.com/tech/news/2003-12-22-shoppers_x.htm\n",
      "http://papers.ssrn.com/sol3/papers.cfm?abstract_id=879797\n",
      "https://archive.org/details/frameworkformark00kotl_2\n",
      "https://archive.org/details/futureshophownew00niss\n",
      "https://archive.org/details/customerrevoluti00seyb\n",
      "http://www.sba.gov/content/ecommerce-resources\n",
      "https://en.wikipedia.org/w/index.php?title=Template:Computer_science&action=edit\n",
      "https://d-nb.info/gnd/4592128-3\n",
      "https://id.loc.gov/authorities/subjects/sh96008434\n",
      "https://id.ndl.go.jp/auth/ndlna/00577580\n",
      "For Depth  1   --->\n",
      "# 1 https://en.wikipedia.org/wiki/Digital_distribution\n",
      "For Depth  1   --->\n",
      "# 2 https://en.wikipedia.org/wiki/E-book\n",
      "For Depth  1   --->\n",
      "# 3 https://en.wikipedia.org/wiki/Software\n",
      "For Depth  1   --->\n",
      "# 4 https://en.wikipedia.org/wiki/Streaming_media\n",
      "For Depth  1   --->\n",
      "# 5 https://en.wikipedia.org/wiki/Online_banking\n",
      "For Depth  1   --->\n",
      "# 6 https://en.wikipedia.org/wiki/DVD-by-mail\n",
      "For Depth  1   --->\n",
      "# 7 https://en.wikipedia.org/wiki/Flower_delivery\n",
      "For Depth  1   --->\n",
      "# 8 https://en.wikipedia.org/wiki/Online_food_ordering\n",
      "For Depth  1   --->\n",
      "# 9 https://en.wikipedia.org/wiki/Online_grocer\n",
      "For Depth  1   --->\n",
      "# 10 https://en.wikipedia.org/wiki/Online_pharmacy\n",
      "For Depth  1   --->\n",
      "# 11 https://en.wikipedia.org/wiki/Travel_website\n",
      "For Depth  1   --->\n",
      "# 12 https://en.wikipedia.org/wiki/Online_advertising\n",
      "For Depth  1   --->\n",
      "# 13 https://en.wikipedia.org/wiki/Online_auction\n",
      "For Depth  1   --->\n",
      "# 14 https://en.wikipedia.org/wiki/Comparison_shopping_website\n",
      "For Depth  1   --->\n",
      "# 15 https://en.wikipedia.org/wiki/Social_commerce\n",
      "For Depth  1   --->\n",
      "# 16 https://en.wikipedia.org/wiki/Online_trading_community\n",
      "For Depth  1   --->\n",
      "# 17 https://en.wikipedia.org/wiki/Online_wallet\n",
      "For Depth  1   --->\n",
      "# 18 https://en.wikipedia.org/wiki/Mobile_commerce\n",
      "For Depth  1   --->\n",
      "# 19 https://en.wikipedia.org/wiki/Mobile_payment\n",
      "For Depth  1   --->\n",
      "# 20 https://en.wikipedia.org/wiki/Mobile_ticketing\n",
      "\n",
      "Writing files\n",
      "============================================\n",
      "Please Wait...\n",
      "DONE...\n",
      "============================================\n",
      "you can now check documents folder\n"
     ]
    }
   ],
   "source": [
    "#def main():\n",
    "\"\"\"\n",
    "#Crawl First URL\n",
    "\"\"\"\n",
    "seed_url = input(\"Please enter wikipedia URL to crawl\")\n",
    "print(\"\\nCrawling HTML\\n===============================\\nPlease Wait...\")\n",
    "name=crawl_first_url(seed_url)\n",
    "\n",
    "\"\"\"\n",
    "#Crawl Related URL's\n",
    "\"\"\"\n",
    "filepath = 'C:/Users/User/Desktop/web_intelligence_project/data/'+str(name)+'.txt'\n",
    "print(\"\\nWriting files\\n============================================\\nPlease Wait...\")\n",
    "#crawl_related(filepath)\n",
    "print(\"DONE...\\n============================================\\nyou can now check documents folder\")\n",
    "\n",
    "#main()"
   ]
  },
  {
   "cell_type": "code",
   "execution_count": 9,
   "metadata": {},
   "outputs": [
    {
     "ename": "ValueError",
     "evalue": "zero-size array to reduction operation maximum which has no identity",
     "output_type": "error",
     "traceback": [
      "\u001b[1;31m---------------------------------------------------------------------------\u001b[0m",
      "\u001b[1;31mValueError\u001b[0m                                Traceback (most recent call last)",
      "\u001b[1;32m<ipython-input-9-494adbc2ba1d>\u001b[0m in \u001b[0;36m<module>\u001b[1;34m\u001b[0m\n\u001b[0;32m      6\u001b[0m \u001b[0mplt\u001b[0m\u001b[1;33m.\u001b[0m\u001b[0mtitle\u001b[0m\u001b[1;33m(\u001b[0m\u001b[1;34m\"Crawler Computing Time\"\u001b[0m\u001b[1;33m)\u001b[0m\u001b[1;33m\u001b[0m\u001b[1;33m\u001b[0m\u001b[0m\n\u001b[0;32m      7\u001b[0m \u001b[1;32mimport\u001b[0m \u001b[0mnumpy\u001b[0m \u001b[1;32mas\u001b[0m \u001b[0mnp\u001b[0m\u001b[1;33m\u001b[0m\u001b[1;33m\u001b[0m\u001b[0m\n\u001b[1;32m----> 8\u001b[1;33m \u001b[0mprint\u001b[0m\u001b[1;33m(\u001b[0m\u001b[1;34m\"Max Computing Time = \"\u001b[0m\u001b[1;33m,\u001b[0m \u001b[1;34m'{:.7f}'\u001b[0m\u001b[1;33m.\u001b[0m\u001b[0mformat\u001b[0m\u001b[1;33m(\u001b[0m\u001b[0mnp\u001b[0m\u001b[1;33m.\u001b[0m\u001b[0mmax\u001b[0m\u001b[1;33m(\u001b[0m\u001b[0mcrawl_time\u001b[0m\u001b[1;33m)\u001b[0m\u001b[1;33m)\u001b[0m\u001b[1;33m)\u001b[0m\u001b[1;33m\u001b[0m\u001b[1;33m\u001b[0m\u001b[0m\n\u001b[0m\u001b[0;32m      9\u001b[0m \u001b[0mprint\u001b[0m\u001b[1;33m(\u001b[0m\u001b[1;34m\"Min Computing Time = \"\u001b[0m\u001b[1;33m,\u001b[0m \u001b[1;34m'{:.7f}'\u001b[0m\u001b[1;33m.\u001b[0m\u001b[0mformat\u001b[0m\u001b[1;33m(\u001b[0m\u001b[0mnp\u001b[0m\u001b[1;33m.\u001b[0m\u001b[0mmin\u001b[0m\u001b[1;33m(\u001b[0m\u001b[0mcrawl_time\u001b[0m\u001b[1;33m)\u001b[0m\u001b[1;33m)\u001b[0m\u001b[1;33m)\u001b[0m\u001b[1;33m\u001b[0m\u001b[1;33m\u001b[0m\u001b[0m\n\u001b[0;32m     10\u001b[0m \u001b[0mprint\u001b[0m\u001b[1;33m(\u001b[0m\u001b[1;34m\"Mean Computing Time = \"\u001b[0m\u001b[1;33m,\u001b[0m \u001b[1;34m'{:.7f}'\u001b[0m\u001b[1;33m.\u001b[0m\u001b[0mformat\u001b[0m\u001b[1;33m(\u001b[0m\u001b[0mnp\u001b[0m\u001b[1;33m.\u001b[0m\u001b[0mmean\u001b[0m\u001b[1;33m(\u001b[0m\u001b[0mcrawl_time\u001b[0m\u001b[1;33m)\u001b[0m\u001b[1;33m)\u001b[0m\u001b[1;33m)\u001b[0m\u001b[1;33m\u001b[0m\u001b[1;33m\u001b[0m\u001b[0m\n",
      "\u001b[1;32mC:\\Users\\User\\Anaconda3\\lib\\site-packages\\numpy\\core\\fromnumeric.py\u001b[0m in \u001b[0;36mamax\u001b[1;34m(a, axis, out, keepdims, initial)\u001b[0m\n\u001b[0;32m   2503\u001b[0m     \"\"\"\n\u001b[0;32m   2504\u001b[0m     return _wrapreduction(a, np.maximum, 'max', axis, None, out, keepdims=keepdims,\n\u001b[1;32m-> 2505\u001b[1;33m                           initial=initial)\n\u001b[0m\u001b[0;32m   2506\u001b[0m \u001b[1;33m\u001b[0m\u001b[0m\n\u001b[0;32m   2507\u001b[0m \u001b[1;33m\u001b[0m\u001b[0m\n",
      "\u001b[1;32mC:\\Users\\User\\Anaconda3\\lib\\site-packages\\numpy\\core\\fromnumeric.py\u001b[0m in \u001b[0;36m_wrapreduction\u001b[1;34m(obj, ufunc, method, axis, dtype, out, **kwargs)\u001b[0m\n\u001b[0;32m     84\u001b[0m                 \u001b[1;32mreturn\u001b[0m \u001b[0mreduction\u001b[0m\u001b[1;33m(\u001b[0m\u001b[0maxis\u001b[0m\u001b[1;33m=\u001b[0m\u001b[0maxis\u001b[0m\u001b[1;33m,\u001b[0m \u001b[0mout\u001b[0m\u001b[1;33m=\u001b[0m\u001b[0mout\u001b[0m\u001b[1;33m,\u001b[0m \u001b[1;33m**\u001b[0m\u001b[0mpasskwargs\u001b[0m\u001b[1;33m)\u001b[0m\u001b[1;33m\u001b[0m\u001b[1;33m\u001b[0m\u001b[0m\n\u001b[0;32m     85\u001b[0m \u001b[1;33m\u001b[0m\u001b[0m\n\u001b[1;32m---> 86\u001b[1;33m     \u001b[1;32mreturn\u001b[0m \u001b[0mufunc\u001b[0m\u001b[1;33m.\u001b[0m\u001b[0mreduce\u001b[0m\u001b[1;33m(\u001b[0m\u001b[0mobj\u001b[0m\u001b[1;33m,\u001b[0m \u001b[0maxis\u001b[0m\u001b[1;33m,\u001b[0m \u001b[0mdtype\u001b[0m\u001b[1;33m,\u001b[0m \u001b[0mout\u001b[0m\u001b[1;33m,\u001b[0m \u001b[1;33m**\u001b[0m\u001b[0mpasskwargs\u001b[0m\u001b[1;33m)\u001b[0m\u001b[1;33m\u001b[0m\u001b[1;33m\u001b[0m\u001b[0m\n\u001b[0m\u001b[0;32m     87\u001b[0m \u001b[1;33m\u001b[0m\u001b[0m\n\u001b[0;32m     88\u001b[0m \u001b[1;33m\u001b[0m\u001b[0m\n",
      "\u001b[1;31mValueError\u001b[0m: zero-size array to reduction operation maximum which has no identity"
     ]
    },
    {
     "data": {
      "image/png": "[encoded data removed]",
      "text/plain": [
       "<Figure size 960x560 with 1 Axes>"
      ]
     },
     "metadata": {},
     "output_type": "display_data"
    }
   ],
   "source": [
    "np.set_printoptions(suppress=True)\n",
    "plt.figure(num=None, figsize=(12, 7), dpi=80, facecolor='w', edgecolor='k')\n",
    "plt.plot(crawl_time)\n",
    "plt.xlabel(\"Crawled Pages\")\n",
    "plt.ylabel(\"Seconds to Crawl\")\n",
    "plt.title(\"Crawler Computing Time\")\n",
    "import numpy as np\n",
    "print(\"Max Computing Time = \", '{:.7f}'.format(np.max(crawl_time)))\n",
    "print(\"Min Computing Time = \", '{:.7f}'.format(np.min(crawl_time)))\n",
    "print(\"Mean Computing Time = \", '{:.7f}'.format(np.mean(crawl_time)))\n",
    "print(\"Median Computing Time = \", '{:.7f}'.format(np.median(crawl_time)))\n",
    "print(\"Variation Computing Time = \", '{:.25f}'.format(np.var(crawl_time)))\n",
    "print(\"Standard-Deviation Computing Time = \", '{:.7f}'.format(np.std(crawl_time)))"
   ]
  },
  {
   "cell_type": "code",
   "execution_count": null,
   "metadata": {},
   "outputs": [],
   "source": []
  }
 ],
 "metadata": {
  "kernelspec": {
   "display_name": "Python 3",
   "language": "python",
   "name": "python3"
  },
  "language_info": {
   "codemirror_mode": {
    "name": "ipython",
    "version": 3
   },
   "file_extension": ".py",
   "mimetype": "text/x-python",
   "name": "python",
   "nbconvert_exporter": "python",
   "pygments_lexer": "ipython3",
   "version": "3.7.3"
  }
 },
 "nbformat": 4,
 "nbformat_minor": 2
}
