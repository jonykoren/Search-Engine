{
 "cells": [
  {
   "cell_type": "code",
   "execution_count": 1,
   "metadata": {},
   "outputs": [],
   "source": [
    "import requests\n",
    "import pandas as pd\n",
    "import numpy as np\n",
    "import csv\n",
    "from bs4 import BeautifulSoup\n",
    "print(\"Libraries uploaded successfuly!\")"
   ]
  },
  {
   "cell_type": "markdown",
   "metadata": {},
   "source": [
    "# Get HTML Content function"
   ]
  },
  {
   "cell_type": "code",
   "execution_count": 2,
   "metadata": {},
   "outputs": [],
   "source": [
    "def get_html_content(url):\n",
    "    web_url = requests.get(url).text\n",
    "    soup = BeautifulSoup(web_url, 'lxml')\n",
    "    return soup.prettify()"
   ]
  },
  {
   "cell_type": "markdown",
   "metadata": {},
   "source": [
    "# Output Results"
   ]
  },
  {
   "cell_type": "code",
   "execution_count": 3,
   "metadata": {},
   "outputs": [],
   "source": [
    "def output(contents,urls):\n",
    "    # Where do you want to save this html files \n",
    "    file_loc='results/html/05/05-'+str(count)+'.html'\n",
    "    fx = open(file_loc, \"w\", encoding='utf-8')\n",
    "    for content in contents:\n",
    "        fx.write(content)\n",
    "    fx.close()\n",
    "    #print(\"Done - Check the new files in the folder ^data^\")"
   ]
  },
  {
   "cell_type": "markdown",
   "metadata": {},
   "source": [
    "# Run"
   ]
  },
  {
   "cell_type": "markdown",
   "metadata": {},
   "source": [
    "### Specify first the txt file with url's to feed  "
   ]
  },
  {
   "cell_type": "code",
   "execution_count": 4,
   "metadata": {},
   "outputs": [
    {
     "name": "stdout",
     "output_type": "stream",
     "text": [
      "===========\n",
      "count=  1 \n",
      "===========\n",
      "\n",
      "===========\n",
      "count=  2 \n",
      "===========\n",
      "\n",
      "===========\n",
      "count=  3 \n",
      "===========\n",
      "\n",
      "===========\n",
      "count=  4 \n",
      "===========\n",
      "\n",
      "===========\n",
      "count=  5 \n",
      "===========\n",
      "\n",
      "===========\n",
      "count=  6 \n",
      "===========\n",
      "\n",
      "===========\n",
      "count=  7 \n",
      "===========\n",
      "\n",
      "===========\n",
      "count=  8 \n",
      "===========\n",
      "\n",
      "===========\n",
      "count=  9 \n",
      "===========\n",
      "\n",
      "===========\n",
      "count=  10 \n",
      "===========\n",
      "\n",
      "===========\n",
      "count=  11 \n",
      "===========\n",
      "\n",
      "===========\n",
      "count=  12 \n",
      "===========\n",
      "\n",
      "===========\n",
      "count=  13 \n",
      "===========\n",
      "\n",
      "===========\n",
      "count=  14 \n",
      "===========\n",
      "\n",
      "===========\n",
      "count=  15 \n",
      "===========\n",
      "\n",
      "===========\n",
      "count=  16 \n",
      "===========\n",
      "\n",
      "===========\n",
      "count=  17 \n",
      "===========\n",
      "\n",
      "===========\n",
      "count=  18 \n",
      "===========\n",
      "\n",
      "===========\n",
      "count=  19 \n",
      "===========\n",
      "\n",
      "===========\n",
      "count=  20 \n",
      "===========\n",
      "\n",
      "==============\n",
      "DONE!\n",
      "==============\n"
     ]
    }
   ],
   "source": [
    "count=1\n",
    "# Specifies the file with the url's list that you feed into getting the html content\n",
    "with open('try/try.txt') as fp:\n",
    "    lines = [line.rstrip() for line in fp]\n",
    "    for line in lines:\n",
    "        x = get_html_content(line)\n",
    "        output(x,count)\n",
    "        count=count+1\n",
    "        print('===========\\ncount= ' , count-1 ,'\\n===========\\n')\n",
    "        \n",
    "print('==============\\nDONE!\\n==============')"
   ]
  }
 ],
 "metadata": {
  "kernelspec": {
   "display_name": "Python 3",
   "language": "python",
   "name": "python3"
  },
  "language_info": {
   "codemirror_mode": {
    "name": "ipython",
    "version": 3
   },
   "file_extension": ".py",
   "mimetype": "text/x-python",
   "name": "python",
   "nbconvert_exporter": "python",
   "pygments_lexer": "ipython3",
   "version": "3.7.3"
  }
 },
 "nbformat": 4,
 "nbformat_minor": 2
}
